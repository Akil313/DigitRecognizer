{
 "cells": [
  {
   "cell_type": "code",
   "execution_count": 2,
   "metadata": {},
   "outputs": [],
   "source": [
    "# Imports\n",
    "import pandas as pd\n",
    "import matplotlib.pyplot as plt\n",
    "from numpy import genfromtxt\n",
    "import numpy as np\n",
    "import pandas as pd\n",
    "import time\n",
    "import random\n",
    "import math"
   ]
  },
  {
   "cell_type": "code",
   "execution_count": 3,
   "metadata": {},
   "outputs": [],
   "source": [
    "# load (downloaded if needed) the MNIST dataset\n",
    "\n",
    "train = pd.read_csv('./datasets/train.csv')\n",
    "test = pd.read_csv('./datasets/test.csv')\n",
    "\n",
    "#y_train = np.array(df['label'].values)\n",
    "#print(y_train)\n",
    "\n",
    "X_train = (train.iloc[:,1:].values.astype('float32'))\n",
    "y_train = (train.iloc[:,0].values.astype('int32'))\n",
    "y_train = np.tile(y_train, (1, 1))\n",
    "X_test = test.values.astype('float32')"
   ]
  },
  {
   "cell_type": "code",
   "execution_count": 43,
   "metadata": {},
   "outputs": [
    {
     "name": "stdout",
     "output_type": "stream",
     "text": [
      "784\n"
     ]
    }
   ],
   "source": [
    "print(X_train.shape[1])"
   ]
  },
  {
   "cell_type": "code",
   "execution_count": 62,
   "metadata": {},
   "outputs": [],
   "source": [
    "class Neural_Network:\n",
    "    def __init__(self):\n",
    "        self.m = X_train.shape[0]\n",
    "        self.input_layer_size = X_train.shape[1]\n",
    "        self.hidden_layer_size = 25\n",
    "        self.output_layer_size = 10\n",
    "        self.epsilon = []\n",
    "        self.theta1 = 0\n",
    "        self.theta2 = 0\n",
    "        self.J = 0\n",
    "        self.grad = 0\n",
    "        self.num_labels = 10\n",
    "        \n",
    "    def randInit(self):\n",
    "        ils = self.input_layer_size\n",
    "        hls = self.hidden_layer_size\n",
    "        ols = self.output_layer_size\n",
    "        \n",
    "        L_in = ils\n",
    "        L_out = hls\n",
    "        \n",
    "        self.epsilon.append(math.sqrt(6) / math.sqrt(L_in + L_out))\n",
    "        \n",
    "        L_in = hls\n",
    "        L_out = ols\n",
    "        \n",
    "        self.epsilon.append(math.sqrt(6) / math.sqrt(L_in + L_out))\n",
    "        \n",
    "        #The theta values are of the form S(j + 1) x S(j) + 1 where S(j) i sthe size of the layer at j\n",
    "        \n",
    "        self.theta1 = np.dot(np.random.rand(hls, ils + 1), (2 * self.epsilon[0])) - self.epsilon[0]\n",
    "        \n",
    "        self.theta2 = np.dot(np.random.rand(ols, hls + 1), (2 * self.epsilon[1])) - self.epsilon[1]\n",
    "        \n",
    "    def sigmoid(self, z):\n",
    "        return ( 1/(1 + np.exp(-z)))\n",
    "    \n",
    "    def fowardProp(self, X, y):\n",
    "        a1 = np.hstack((np.ones((self.m, 1)), X ))\n",
    "        \n",
    "        z2 = np.dot(a1, self.theta1.T)\n",
    "        \n",
    "        a2 = sigmoid(z2)\n",
    "        \n",
    "        z3 = np.dot(a2, self.theta2.T)"
   ]
  },
  {
   "cell_type": "code",
   "execution_count": 63,
   "metadata": {
    "scrolled": true
   },
   "outputs": [
    {
     "name": "stdout",
     "output_type": "stream",
     "text": [
      "(42000, 25)\n"
     ]
    }
   ],
   "source": [
    "nn = Neural_Network()\n",
    "nn.randInit()\n",
    "nn.fowardProp(X_train, y_train)"
   ]
  }
 ],
 "metadata": {
  "kernelspec": {
   "display_name": "Python 3",
   "language": "python",
   "name": "python3"
  },
  "language_info": {
   "codemirror_mode": {
    "name": "ipython",
    "version": 3
   },
   "file_extension": ".py",
   "mimetype": "text/x-python",
   "name": "python",
   "nbconvert_exporter": "python",
   "pygments_lexer": "ipython3",
   "version": "3.6.4"
  }
 },
 "nbformat": 4,
 "nbformat_minor": 2
}
