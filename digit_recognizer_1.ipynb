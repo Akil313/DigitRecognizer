{
 "cells": [
  {
   "cell_type": "code",
   "execution_count": 1,
   "metadata": {},
   "outputs": [],
   "source": [
    "# Imports\n",
    "import pandas as pd\n",
    "import matplotlib.pyplot as plt\n",
    "from numpy import genfromtxt\n",
    "import numpy as np\n",
    "import time\n",
    "import random\n",
    "import math\n",
    "from scipy.optimize import minimize"
   ]
  },
  {
   "cell_type": "code",
   "execution_count": 2,
   "metadata": {},
   "outputs": [],
   "source": [
    "# load (downloaded if needed) the MNIST dataset\n",
    "\n",
    "train = pd.read_csv('./datasets/train.csv')\n",
    "test = pd.read_csv('./datasets/test.csv')\n",
    "\n",
    "#y_train = np.array(df['label'].values)\n",
    "#print(y_train)\n",
    "\n",
    "X_train = (train.iloc[:,1:].values.astype('float32'))\n",
    "y_train = (train.iloc[:,0].values.astype('int32'))\n",
    "y_train = np.tile(y_train, (1, 1))\n",
    "X_test = test.values.astype('float32')"
   ]
  },
  {
   "cell_type": "code",
   "execution_count": 3,
   "metadata": {},
   "outputs": [
    {
     "name": "stdout",
     "output_type": "stream",
     "text": [
      "784\n"
     ]
    }
   ],
   "source": [
    "print(X_train.shape[1])"
   ]
  },
  {
   "cell_type": "code",
   "execution_count": 45,
   "metadata": {},
   "outputs": [],
   "source": [
    "class Neural_Network:\n",
    "    def __init__(self, X_train, y_train):\n",
    "        self.X_train = X_train\n",
    "        self.y_train = y_train\n",
    "        self.m = X_train.shape[0]\n",
    "        self.input_layer_size = X_train.shape[1]\n",
    "        self.hidden_layer_size = 25\n",
    "        self.output_layer_size = 10\n",
    "        self.epsilon = []\n",
    "        self.theta1 = 0\n",
    "        self.theta2 = 0\n",
    "        self.J = 0\n",
    "        self.grad = 0\n",
    "        self.num_labels = 10\n",
    "        self.grad = 0\n",
    "        self.counter = 0\n",
    "        \n",
    "    def randInit(self, X, y):\n",
    "        ils = self.input_layer_size\n",
    "        hls = self.hidden_layer_size\n",
    "        ols = self.output_layer_size\n",
    "        \n",
    "        L_in = ils\n",
    "        L_out = hls\n",
    "        \n",
    "        self.epsilon.append(math.sqrt(6) / math.sqrt(L_in + L_out))\n",
    "        \n",
    "        L_in = hls\n",
    "        L_out = ols\n",
    "        \n",
    "        self.epsilon.append(math.sqrt(6) / math.sqrt(L_in + L_out))\n",
    "        \n",
    "        #The theta values are of the form S(j + 1) x S(j) + 1 where S(j) i sthe size of the layer at j\n",
    "        \n",
    "        self.theta1 = np.dot(np.random.rand(hls, ils + 1), (2 * self.epsilon[0])) - self.epsilon[0]\n",
    "        \n",
    "        self.theta2 = np.dot(np.random.rand(ols, hls + 1), (2 * self.epsilon[1])) - self.epsilon[1]\n",
    "        \n",
    "    def sigmoid(self, z):\n",
    "        return ( 1/(1 + np.exp(-z)))\n",
    "    \n",
    "    def sigmoidPrime(self, z):\n",
    "        z = self.sigmoid(z)\n",
    "        return np.multiply(z, (1-z))\n",
    "    \n",
    "    def costFunction(self, nn_params, ils, hls, num_labels, X, y, lam):\n",
    "        y = y.T\n",
    "        self.counter+=1\n",
    "        \n",
    "        theta1 = np.reshape(nn_params[:hls * (ils + 1)], \\\n",
    "                     (hls, ils + 1), order='F')\n",
    "        \n",
    "        theta2 = np.reshape(nn_params[hls * (ils + 1):], \\\n",
    "                     (num_labels, hls + 1), order='F')\n",
    "        \n",
    "        #Foward propogation\n",
    "        a1 = np.hstack((np.ones((self.m, 1)), X ))\n",
    "        \n",
    "        z2 = np.dot(a1, theta1.T)\n",
    "        \n",
    "        a2 = self.sigmoid(z2)\n",
    "        a2 = np.hstack((np.ones((a2.shape[0], 1)), a2))\n",
    "        \n",
    "        z3 = np.dot(a2, theta2.T)\n",
    "        \n",
    "        a3 = self.sigmoid(z3)\n",
    "        \n",
    "        #Cost function\n",
    "        \n",
    "        numLabels_temp = np.tile([i for i in range(10)], (self.m, 1))\n",
    "        \n",
    "        yMatrix_temp = np.tile(y.T[:], (1,self.num_labels) )\n",
    "        \n",
    "        yMatrix = np.equal(numLabels_temp, yMatrix_temp)\n",
    "        \n",
    "        cost_no_reg = np.sum(np.multiply(yMatrix, np.log(a3)) + np.multiply((1-yMatrix), np.log(1 - a3)))\n",
    "        \n",
    "        reg = (lam / (2*self.m)) * ((np.sum(np.square(theta1[:, 1:])) + np.sum(np.square(theta2[:, 1:])))) ** 2\n",
    "        \n",
    "        self.J =  ((-1/self.m) * cost_no_reg) + reg\n",
    "        \n",
    "        self.grad = self.backProp(theta1, theta2)\n",
    "        \n",
    "        print(self.counter, \") Cost: \", self.J)\n",
    "        \n",
    "        return self.J, self.grad\n",
    "        \n",
    "    def backProp(self, theta1, theta2):\n",
    "        X = self.X_train\n",
    "        y = self.y_train\n",
    "        y = y.T\n",
    "        lam = 0\n",
    "        \n",
    "        numLabels_temp = np.tile([i for i in range(10)], (self.m, 1) )\n",
    "        \n",
    "        yMatrix_temp = np.tile(y[:], (1,self.num_labels) )\n",
    "        \n",
    "        yMatrix = np.equal(numLabels_temp, yMatrix_temp)\n",
    "        \n",
    "        delta2 = 0\n",
    "        delta1 = 0\n",
    "        \n",
    "        for i in range(0, self.m):\n",
    "            \n",
    "            a1 = np.append(1, X[i, :] )\n",
    "            a1 = a1.reshape(1, a1.size)\n",
    "        \n",
    "            z2 = np.dot(a1, theta1.T)\n",
    "\n",
    "            a2 = self.sigmoid(z2)\n",
    "            a2 = np.append(1, a2)\n",
    "            a2 = a2.reshape(1, a2.size)\n",
    "\n",
    "            z3 = np.dot(a2, theta2.T)\n",
    "\n",
    "            a3 = self.sigmoid(z3)\n",
    "            a3 = a3.reshape(1, a3.size)\n",
    "            \n",
    "            yMatrix_i = yMatrix[i, :]\n",
    "            yMatrix_i.reshape(1, yMatrix_i.size)\n",
    "            \n",
    "            delta3_i = np.subtract(a3, yMatrix_i)\n",
    "            \n",
    "            g2 = self.sigmoidPrime(np.insert(z2, 0, 1, axis=1))\n",
    "            g2 = g2.reshape(1, g2.size)\n",
    "            \n",
    "            delta2_i = np.multiply(np.dot(theta2.T, delta3_i.T), g2.T)\n",
    "            delta2_i = delta2_i[1:].T\n",
    "            \n",
    "            delta2 = delta2 + np.dot(delta3_i.T, a2)\n",
    "            \n",
    "            delta1 = delta1 + np.dot(delta2_i.T, a1)\n",
    "            \n",
    "        #theta1_no_bias = np.multiply((lam/self.m), theta1[:, 1:])\n",
    "        #theta2_no_bias = np.multiply((lam/self.m), theta2[:, 1:])\n",
    "        \n",
    "        #theta1_bias = np.multiply((1/self.m), delta1[:, 1])\n",
    "        #theta1_bias = theta1_bias.reshape(theta1_bias.size, 1)\n",
    "        \n",
    "        #theta2_bias = np.multiply((1/self.m), delta2[:, 1])\n",
    "        #theta2_bias = theta2_bias.reshape(theta2_bias.size, 1)\n",
    "        \n",
    "        #Theta1_grad = np.concatenate((theta1_bias, np.add(np.multiply((1/self.m), delta1[:, 1:]), theta1_no_bias)), axis=1)\n",
    "        #Theta2_grad = np.concatenate((theta2_bias, np.add(np.multiply((1/self.m), delta2[:, 1:]), theta2_no_bias)), axis=1)\n",
    "        \n",
    "        #self.grad = np.concatenate((Theta1_grad.reshape(Theta1_grad.size, order='F'), Theta2_grad.reshape(Theta2_grad.size, order='F')))\n",
    "        \n",
    "        Theta1_grad = delta1 / self.m\n",
    "        Theta2_grad = delta2 / self.m\n",
    "        \n",
    "        Theta1_grad_unregularized = np.copy(Theta1_grad)\n",
    "        Theta2_grad_unregularized = np.copy(Theta2_grad)\n",
    "        Theta1_grad += (float(lam)/self.m)*theta1\n",
    "        Theta2_grad += (float(lam)/self.m)*theta2\n",
    "        Theta1_grad[:,0] = Theta1_grad_unregularized[:,0]\n",
    "        Theta2_grad[:,0] = Theta2_grad_unregularized[:,0]\n",
    "        \n",
    "        self.grad = np.concatenate((Theta1_grad.reshape(Theta1_grad.size, order='F'), Theta2_grad.reshape(Theta2_grad.size, order='F')))\n",
    "        \n",
    "        return self.grad\n",
    "        \n",
    "    def train(self, theta1, theta2, nn_params, X, y):\n",
    "        \n",
    "        print(self.J,)\n",
    "        print('Training Neural Network...')\n",
    "        maxiter = 20\n",
    "        #maxiter = 30\n",
    "        #maxiter = 100\n",
    "        #maxiter = 5\n",
    "        \n",
    "        lambda_reg = 0.1\n",
    "        \n",
    "        nn_params = np.concatenate((theta1.reshape(theta1.size, order='F'), theta2.reshape(theta2.size, order='F')))\n",
    "        \n",
    "        myargs = (self.input_layer_size, self.hidden_layer_size, self.num_labels, X, y, lambda_reg)\n",
    "        results = minimize(self.costFunction, x0=nn_params, args=myargs, options={'disp': True, 'maxiter':maxiter}, method=\"L-BFGS-B\", jac=True)\n",
    "\n",
    "        nn_params = results[\"x\"]\n",
    "\n",
    "        # Obtain Theta1 and Theta2 back from nn_params\n",
    "        Theta1 = np.reshape(nn_params[:self.hidden_layer_size * (self.input_layer_size + 1)], \\\n",
    "                         (self.hidden_layer_size, self.input_layer_size + 1), order='F')\n",
    "\n",
    "        Theta2 = np.reshape(nn_params[self.hidden_layer_size * (self.input_layer_size + 1):], \\\n",
    "                         (self.num_labels, self.hidden_layer_size + 1), order='F')\n",
    "\n",
    "        print('Program paused. Press enter to continue.\\n')\n",
    "        return Theta1,Theta2\n",
    "    \n",
    "    def predict(self, Theta1, Theta2, X):\n",
    "        #Description\n",
    "        \n",
    "        # turns 1D X array into 2D\n",
    "        if X.ndim == 1:\n",
    "            X = np.reshape(X, (-1,X.shape[0]))\n",
    "\n",
    "        # Useful values\n",
    "        m = X.shape[0]\n",
    "        num_labels = Theta2.shape[0]\n",
    "\n",
    "        # You need to return the following variables correctly \n",
    "        p = np.zeros((m,1))\n",
    "\n",
    "        h1 = self.sigmoid( np.dot( np.column_stack( ( np.ones((m,1)), X ) ) , Theta1.T ) )\n",
    "        h2 = self.sigmoid( np.dot( np.column_stack( ( np.ones((m,1)), h1) ) , Theta2.T ) )\n",
    "\n",
    "        p = np.argmax(h2, axis=1)\n",
    "\n",
    "        # =========================================================================\n",
    "\n",
    "        return p + 1# offsets python's zero notation"
   ]
  },
  {
   "cell_type": "code",
   "execution_count": 46,
   "metadata": {},
   "outputs": [
    {
     "name": "stdout",
     "output_type": "stream",
     "text": [
      "(42000, 1)\n"
     ]
    }
   ],
   "source": [
    "y = y_train\n",
    "y = y.T\n",
    "\n",
    "print(y[:].shape)"
   ]
  },
  {
   "cell_type": "code",
   "execution_count": null,
   "metadata": {
    "scrolled": true
   },
   "outputs": [
    {
     "name": "stdout",
     "output_type": "stream",
     "text": [
      "0\n",
      "Training Neural Network...\n",
      "[[1 0 1 ... 7 6 9]]\n",
      "\n",
      "1 ) Cost:  7.437345671729642\n",
      "[[1 0 1 ... 7 6 9]]\n"
     ]
    }
   ],
   "source": [
    "nn = Neural_Network(X_train, y_train)\n",
    "nn.randInit(X_train, y_train)\n",
    "nn_params = np.concatenate((nn.theta1.reshape(nn.theta1.size, order='F'), nn.theta2.reshape(nn.theta2.size, order='F')))\n",
    "theta1, theta2 = nn.train(nn.theta1, nn.theta2, nn_params, X_train, y_train.T)\n",
    "\n",
    "pred = nn.predict(theta1, theta2, X_train)"
   ]
  },
  {
   "cell_type": "code",
   "execution_count": 32,
   "metadata": {},
   "outputs": [
    {
     "name": "stdout",
     "output_type": "stream",
     "text": [
      "[2 2 2 ... 2 2 2]\n",
      "Training Set Accuracy: 9.945238\n"
     ]
    }
   ],
   "source": [
    "k = 0\n",
    "print(pred[k])\n",
    "for i in pred:\n",
    "    if(i == 10):\n",
    "        pred[k] = 0\n",
    "    k+=1\n",
    "print('Training Set Accuracy: {:f}'.format( ( np.mean(pred == y_train)*100 ) ) )"
   ]
  },
  {
   "cell_type": "code",
   "execution_count": 22,
   "metadata": {},
   "outputs": [
    {
     "name": "stdout",
     "output_type": "stream",
     "text": [
      "(28000,)\n",
      "<class 'numpy.ndarray'>\n"
     ]
    }
   ],
   "source": [
    "ans = nn.predict(theta1,theta2, X_test)\n",
    "print(ans.shape)\n",
    "print(type(ans))"
   ]
  },
  {
   "cell_type": "code",
   "execution_count": 23,
   "metadata": {},
   "outputs": [
    {
     "name": "stdout",
     "output_type": "stream",
     "text": [
      "2\n",
      "2\n"
     ]
    }
   ],
   "source": [
    "k = 0\n",
    "print(ans[1])\n",
    "for i in ans:\n",
    "    if(i == 10):\n",
    "        ans[k] = 0\n",
    "    k+=1\n",
    "print(ans[1])"
   ]
  },
  {
   "cell_type": "code",
   "execution_count": 24,
   "metadata": {},
   "outputs": [
    {
     "name": "stdout",
     "output_type": "stream",
     "text": [
      "   ImageId  Label\n",
      "0        1      2\n",
      "1        2      2\n",
      "2        3      2\n",
      "3        4      2\n",
      "4        5      2\n"
     ]
    }
   ],
   "source": [
    "df = pd.DataFrame(data=ans,columns=[\"Label\"])\n",
    "file = \"submission0.csv\"\n",
    "df.reset_index(level=0, inplace=True)\n",
    "#df['ImageId'] = df.index\n",
    "df.columns = ['ImageId', 'Label']\n",
    "for i in df['ImageId']:\n",
    "    df['ImageId'][i]+=1\n",
    "#for\n",
    "print(df[:5])\n",
    "df.to_csv(file, index=False)"
   ]
  },
  {
   "cell_type": "code",
   "execution_count": 31,
   "metadata": {},
   "outputs": [
    {
     "name": "stdout",
     "output_type": "stream",
     "text": [
      "2\n"
     ]
    },
    {
     "data": {
      "text/plain": [
       "<matplotlib.image.AxesImage at 0x1e5be53a160>"
      ]
     },
     "execution_count": 31,
     "metadata": {},
     "output_type": "execute_result"
    },
    {
     "data": {
      "image/png": "[encoded data removed]",
      "text/plain": [
       "<Figure size 432x288 with 1 Axes>"
      ]
     },
     "metadata": {},
     "output_type": "display_data"
    }
   ],
   "source": [
    "digit = X_test.reshape(X_test.shape[0],28,28)\n",
    "print(ans[0])\n",
    "plt.subplot(221)\n",
    "plt.imshow(digit[i], cmap=plt.get_cmap('gray'))"
   ]
  }
 ],
 "metadata": {
  "kernelspec": {
   "display_name": "Python 3",
   "language": "python",
   "name": "python3"
  },
  "language_info": {
   "codemirror_mode": {
    "name": "ipython",
    "version": 3
   },
   "file_extension": ".py",
   "mimetype": "text/x-python",
   "name": "python",
   "nbconvert_exporter": "python",
   "pygments_lexer": "ipython3",
   "version": "3.6.5"
  }
 },
 "nbformat": 4,
 "nbformat_minor": 2
}
